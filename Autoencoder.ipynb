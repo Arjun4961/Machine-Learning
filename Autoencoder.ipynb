{
  "cells": [
    {
      "cell_type": "markdown",
      "metadata": {
        "id": "view-in-github",
        "colab_type": "text"
      },
      "source": [
        "<a href=\"https://colab.research.google.com/github/Arjun4961/Machine-Learning/blob/main/Autoencoder.ipynb\" target=\"_parent\"><img src=\"https://colab.research.google.com/assets/colab-badge.svg\" alt=\"Open In Colab\"/></a>"
      ]
    },
    {
      "cell_type": "code",
      "execution_count": 3,
      "metadata": {
        "colab": {
          "base_uri": "https://localhost:8080/"
        },
        "id": "4qvZoMfO43gX",
        "outputId": "7d2f689f-2aab-4e15-c30c-44639ab79527"
      },
      "outputs": [
        {
          "output_type": "stream",
          "name": "stdout",
          "text": [
            "Requirement already satisfied: tensorflow in /usr/local/lib/python3.10/dist-packages (2.15.0)\n",
            "Requirement already satisfied: matplotlib in /usr/local/lib/python3.10/dist-packages (3.7.1)\n",
            "Requirement already satisfied: absl-py>=1.0.0 in /usr/local/lib/python3.10/dist-packages (from tensorflow) (1.4.0)\n",
            "Requirement already satisfied: astunparse>=1.6.0 in /usr/local/lib/python3.10/dist-packages (from tensorflow) (1.6.3)\n",
            "Requirement already satisfied: flatbuffers>=23.5.26 in /usr/local/lib/python3.10/dist-packages (from tensorflow) (24.3.25)\n",
            "Requirement already satisfied: gast!=0.5.0,!=0.5.1,!=0.5.2,>=0.2.1 in /usr/local/lib/python3.10/dist-packages (from tensorflow) (0.5.4)\n",
            "Requirement already satisfied: google-pasta>=0.1.1 in /usr/local/lib/python3.10/dist-packages (from tensorflow) (0.2.0)\n",
            "Requirement already satisfied: h5py>=2.9.0 in /usr/local/lib/python3.10/dist-packages (from tensorflow) (3.9.0)\n",
            "Requirement already satisfied: libclang>=13.0.0 in /usr/local/lib/python3.10/dist-packages (from tensorflow) (18.1.1)\n",
            "Requirement already satisfied: ml-dtypes~=0.2.0 in /usr/local/lib/python3.10/dist-packages (from tensorflow) (0.2.0)\n",
            "Requirement already satisfied: numpy<2.0.0,>=1.23.5 in /usr/local/lib/python3.10/dist-packages (from tensorflow) (1.25.2)\n",
            "Requirement already satisfied: opt-einsum>=2.3.2 in /usr/local/lib/python3.10/dist-packages (from tensorflow) (3.3.0)\n",
            "Requirement already satisfied: packaging in /usr/local/lib/python3.10/dist-packages (from tensorflow) (24.0)\n",
            "Requirement already satisfied: protobuf!=4.21.0,!=4.21.1,!=4.21.2,!=4.21.3,!=4.21.4,!=4.21.5,<5.0.0dev,>=3.20.3 in /usr/local/lib/python3.10/dist-packages (from tensorflow) (3.20.3)\n",
            "Requirement already satisfied: setuptools in /usr/local/lib/python3.10/dist-packages (from tensorflow) (67.7.2)\n",
            "Requirement already satisfied: six>=1.12.0 in /usr/local/lib/python3.10/dist-packages (from tensorflow) (1.16.0)\n",
            "Requirement already satisfied: termcolor>=1.1.0 in /usr/local/lib/python3.10/dist-packages (from tensorflow) (2.4.0)\n",
            "Requirement already satisfied: typing-extensions>=3.6.6 in /usr/local/lib/python3.10/dist-packages (from tensorflow) (4.11.0)\n",
            "Requirement already satisfied: wrapt<1.15,>=1.11.0 in /usr/local/lib/python3.10/dist-packages (from tensorflow) (1.14.1)\n",
            "Requirement already satisfied: tensorflow-io-gcs-filesystem>=0.23.1 in /usr/local/lib/python3.10/dist-packages (from tensorflow) (0.37.0)\n",
            "Requirement already satisfied: grpcio<2.0,>=1.24.3 in /usr/local/lib/python3.10/dist-packages (from tensorflow) (1.63.0)\n",
            "Requirement already satisfied: tensorboard<2.16,>=2.15 in /usr/local/lib/python3.10/dist-packages (from tensorflow) (2.15.2)\n",
            "Requirement already satisfied: tensorflow-estimator<2.16,>=2.15.0 in /usr/local/lib/python3.10/dist-packages (from tensorflow) (2.15.0)\n",
            "Requirement already satisfied: keras<2.16,>=2.15.0 in /usr/local/lib/python3.10/dist-packages (from tensorflow) (2.15.0)\n",
            "Requirement already satisfied: contourpy>=1.0.1 in /usr/local/lib/python3.10/dist-packages (from matplotlib) (1.2.1)\n",
            "Requirement already satisfied: cycler>=0.10 in /usr/local/lib/python3.10/dist-packages (from matplotlib) (0.12.1)\n",
            "Requirement already satisfied: fonttools>=4.22.0 in /usr/local/lib/python3.10/dist-packages (from matplotlib) (4.51.0)\n",
            "Requirement already satisfied: kiwisolver>=1.0.1 in /usr/local/lib/python3.10/dist-packages (from matplotlib) (1.4.5)\n",
            "Requirement already satisfied: pillow>=6.2.0 in /usr/local/lib/python3.10/dist-packages (from matplotlib) (9.4.0)\n",
            "Requirement already satisfied: pyparsing>=2.3.1 in /usr/local/lib/python3.10/dist-packages (from matplotlib) (3.1.2)\n",
            "Requirement already satisfied: python-dateutil>=2.7 in /usr/local/lib/python3.10/dist-packages (from matplotlib) (2.8.2)\n",
            "Requirement already satisfied: wheel<1.0,>=0.23.0 in /usr/local/lib/python3.10/dist-packages (from astunparse>=1.6.0->tensorflow) (0.43.0)\n",
            "Requirement already satisfied: google-auth<3,>=1.6.3 in /usr/local/lib/python3.10/dist-packages (from tensorboard<2.16,>=2.15->tensorflow) (2.27.0)\n",
            "Requirement already satisfied: google-auth-oauthlib<2,>=0.5 in /usr/local/lib/python3.10/dist-packages (from tensorboard<2.16,>=2.15->tensorflow) (1.2.0)\n",
            "Requirement already satisfied: markdown>=2.6.8 in /usr/local/lib/python3.10/dist-packages (from tensorboard<2.16,>=2.15->tensorflow) (3.6)\n",
            "Requirement already satisfied: requests<3,>=2.21.0 in /usr/local/lib/python3.10/dist-packages (from tensorboard<2.16,>=2.15->tensorflow) (2.31.0)\n",
            "Requirement already satisfied: tensorboard-data-server<0.8.0,>=0.7.0 in /usr/local/lib/python3.10/dist-packages (from tensorboard<2.16,>=2.15->tensorflow) (0.7.2)\n",
            "Requirement already satisfied: werkzeug>=1.0.1 in /usr/local/lib/python3.10/dist-packages (from tensorboard<2.16,>=2.15->tensorflow) (3.0.3)\n",
            "Requirement already satisfied: cachetools<6.0,>=2.0.0 in /usr/local/lib/python3.10/dist-packages (from google-auth<3,>=1.6.3->tensorboard<2.16,>=2.15->tensorflow) (5.3.3)\n",
            "Requirement already satisfied: pyasn1-modules>=0.2.1 in /usr/local/lib/python3.10/dist-packages (from google-auth<3,>=1.6.3->tensorboard<2.16,>=2.15->tensorflow) (0.4.0)\n",
            "Requirement already satisfied: rsa<5,>=3.1.4 in /usr/local/lib/python3.10/dist-packages (from google-auth<3,>=1.6.3->tensorboard<2.16,>=2.15->tensorflow) (4.9)\n",
            "Requirement already satisfied: requests-oauthlib>=0.7.0 in /usr/local/lib/python3.10/dist-packages (from google-auth-oauthlib<2,>=0.5->tensorboard<2.16,>=2.15->tensorflow) (1.3.1)\n",
            "Requirement already satisfied: charset-normalizer<4,>=2 in /usr/local/lib/python3.10/dist-packages (from requests<3,>=2.21.0->tensorboard<2.16,>=2.15->tensorflow) (3.3.2)\n",
            "Requirement already satisfied: idna<4,>=2.5 in /usr/local/lib/python3.10/dist-packages (from requests<3,>=2.21.0->tensorboard<2.16,>=2.15->tensorflow) (3.7)\n",
            "Requirement already satisfied: urllib3<3,>=1.21.1 in /usr/local/lib/python3.10/dist-packages (from requests<3,>=2.21.0->tensorboard<2.16,>=2.15->tensorflow) (2.0.7)\n",
            "Requirement already satisfied: certifi>=2017.4.17 in /usr/local/lib/python3.10/dist-packages (from requests<3,>=2.21.0->tensorboard<2.16,>=2.15->tensorflow) (2024.2.2)\n",
            "Requirement already satisfied: MarkupSafe>=2.1.1 in /usr/local/lib/python3.10/dist-packages (from werkzeug>=1.0.1->tensorboard<2.16,>=2.15->tensorflow) (2.1.5)\n",
            "Requirement already satisfied: pyasn1<0.7.0,>=0.4.6 in /usr/local/lib/python3.10/dist-packages (from pyasn1-modules>=0.2.1->google-auth<3,>=1.6.3->tensorboard<2.16,>=2.15->tensorflow) (0.6.0)\n",
            "Requirement already satisfied: oauthlib>=3.0.0 in /usr/local/lib/python3.10/dist-packages (from requests-oauthlib>=0.7.0->google-auth-oauthlib<2,>=0.5->tensorboard<2.16,>=2.15->tensorflow) (3.2.2)\n"
          ]
        }
      ],
      "source": [
        "!pip install tensorflow matplotlib\n"
      ]
    },
    {
      "cell_type": "code",
      "execution_count": 4,
      "metadata": {
        "id": "CxOsplGf47KZ"
      },
      "outputs": [],
      "source": [
        "import tensorflow as tf\n",
        "from tensorflow.keras import layers, models\n",
        "import matplotlib.pyplot as plt\n",
        "import numpy as np\n",
        "\n"
      ]
    },
    {
      "cell_type": "code",
      "execution_count": 5,
      "metadata": {
        "colab": {
          "base_uri": "https://localhost:8080/"
        },
        "id": "J_W4djR249i2",
        "outputId": "a1489bbd-a2ef-45ff-fe68-d88e42acc975"
      },
      "outputs": [
        {
          "output_type": "stream",
          "name": "stdout",
          "text": [
            "Downloading data from https://storage.googleapis.com/tensorflow/tf-keras-datasets/mnist.npz\n",
            "11490434/11490434 [==============================] - 0s 0us/step\n"
          ]
        }
      ],
      "source": [
        "# Load the MNIST dataset\n",
        "(x_train, _), (x_test, _) = tf.keras.datasets.mnist.load_data()\n",
        "\n",
        "# Normalize the images to [0, 1] range\n",
        "x_train = x_train.astype('float32') / 255.\n",
        "x_test = x_test.astype('float32') / 255.\n",
        "\n",
        "# Add a channel dimension (needed for convolutional layers)\n",
        "x_train = np.expand_dims(x_train, axis=-1)\n",
        "x_test = np.expand_dims(x_test, axis=-1)\n"
      ]
    },
    {
      "cell_type": "code",
      "execution_count": 6,
      "metadata": {
        "id": "QHIhlVGM4_uc"
      },
      "outputs": [],
      "source": [
        "# Define the autoencoder architecture\n",
        "input_img = layers.Input(shape=(28, 28, 1))\n",
        "\n",
        "# Encoder\n",
        "x = layers.Conv2D(32, (3, 3), activation='relu', padding='same')(input_img)\n",
        "x = layers.MaxPooling2D((2, 2), padding='same')(x)\n",
        "x = layers.Conv2D(64, (3, 3), activation='relu', padding='same')(x)\n",
        "x = layers.MaxPooling2D((2, 2), padding='same')(x)\n",
        "\n",
        "# Latent space\n",
        "latent = layers.Conv2D(64, (3, 3), activation='relu', padding='same')(x)\n",
        "\n",
        "# Decoder\n",
        "x = layers.Conv2D(64, (3, 3), activation='relu', padding='same')(latent)\n",
        "x = layers.UpSampling2D((2, 2))(x)\n",
        "x = layers.Conv2D(32, (3, 3), activation='relu', padding='same')(x)\n",
        "x = layers.UpSampling2D((2, 2))(x)\n",
        "decoded = layers.Conv2D(1, (3, 3), activation='sigmoid', padding='same')(x)\n",
        "\n",
        "# Autoencoder model\n",
        "autoencoder = models.Model(input_img, decoded)\n",
        "autoencoder.compile(optimizer='adam', loss='binary_crossentropy')\n"
      ]
    },
    {
      "cell_type": "code",
      "execution_count": null,
      "metadata": {
        "colab": {
          "base_uri": "https://localhost:8080/"
        },
        "id": "dYlc7kgH5Bc1",
        "outputId": "5686a5df-f389-43a6-c4b1-d317237c0616"
      },
      "outputs": [
        {
          "output_type": "stream",
          "name": "stdout",
          "text": [
            "Epoch 1/50\n",
            "235/235 [==============================] - 182s 765ms/step - loss: 0.1461 - val_loss: 0.0776\n",
            "Epoch 2/50\n",
            "235/235 [==============================] - 171s 728ms/step - loss: 0.0755 - val_loss: 0.0723\n",
            "Epoch 3/50\n",
            "235/235 [==============================] - 167s 711ms/step - loss: 0.0716 - val_loss: 0.0699\n",
            "Epoch 4/50\n",
            "235/235 [==============================] - 169s 718ms/step - loss: 0.0698 - val_loss: 0.0684\n",
            "Epoch 5/50\n",
            "235/235 [==============================] - 167s 713ms/step - loss: 0.0687 - val_loss: 0.0678\n",
            "Epoch 6/50\n",
            "235/235 [==============================] - 168s 717ms/step - loss: 0.0679 - val_loss: 0.0670\n",
            "Epoch 7/50\n",
            "235/235 [==============================] - 169s 719ms/step - loss: 0.0675 - val_loss: 0.0669\n",
            "Epoch 8/50\n",
            "235/235 [==============================] - 165s 704ms/step - loss: 0.0670 - val_loss: 0.0663\n",
            "Epoch 9/50\n",
            "235/235 [==============================] - 168s 716ms/step - loss: 0.0667 - val_loss: 0.0660\n",
            "Epoch 10/50\n",
            "235/235 [==============================] - 168s 717ms/step - loss: 0.0663 - val_loss: 0.0657\n",
            "Epoch 11/50\n",
            "235/235 [==============================] - 166s 709ms/step - loss: 0.0662 - val_loss: 0.0654\n",
            "Epoch 12/50\n",
            "235/235 [==============================] - 170s 723ms/step - loss: 0.0659 - val_loss: 0.0653\n",
            "Epoch 13/50\n",
            "235/235 [==============================] - 166s 709ms/step - loss: 0.0657 - val_loss: 0.0652\n",
            "Epoch 14/50\n",
            "235/235 [==============================] - 166s 707ms/step - loss: 0.0655 - val_loss: 0.0649\n",
            "Epoch 15/50\n",
            "235/235 [==============================] - 165s 702ms/step - loss: 0.0653 - val_loss: 0.0649\n",
            "Epoch 16/50\n",
            "235/235 [==============================] - 167s 709ms/step - loss: 0.0651 - val_loss: 0.0646\n",
            "Epoch 17/50\n",
            "235/235 [==============================] - 165s 703ms/step - loss: 0.0650 - val_loss: 0.0646\n",
            "Epoch 18/50\n",
            "235/235 [==============================] - 167s 710ms/step - loss: 0.0649 - val_loss: 0.0643\n",
            "Epoch 19/50\n",
            "235/235 [==============================] - 166s 708ms/step - loss: 0.0647 - val_loss: 0.0642\n",
            "Epoch 20/50\n",
            "235/235 [==============================] - 167s 708ms/step - loss: 0.0646 - val_loss: 0.0641\n",
            "Epoch 21/50\n",
            "235/235 [==============================] - 169s 717ms/step - loss: 0.0645 - val_loss: 0.0641\n",
            "Epoch 22/50\n",
            "235/235 [==============================] - 164s 699ms/step - loss: 0.0643 - val_loss: 0.0640\n",
            "Epoch 23/50\n",
            "235/235 [==============================] - 167s 712ms/step - loss: 0.0642 - val_loss: 0.0638\n",
            "Epoch 24/50\n",
            "235/235 [==============================] - 168s 716ms/step - loss: 0.0642 - val_loss: 0.0638\n",
            "Epoch 25/50\n",
            "235/235 [==============================] - 165s 703ms/step - loss: 0.0640 - val_loss: 0.0636\n",
            "Epoch 26/50\n",
            "235/235 [==============================] - 165s 702ms/step - loss: 0.0640 - val_loss: 0.0635\n",
            "Epoch 27/50\n",
            "235/235 [==============================] - 170s 722ms/step - loss: 0.0639 - val_loss: 0.0635\n",
            "Epoch 28/50\n",
            "235/235 [==============================] - 166s 708ms/step - loss: 0.0638 - val_loss: 0.0633\n",
            "Epoch 29/50\n",
            "235/235 [==============================] - 168s 716ms/step - loss: 0.0638 - val_loss: 0.0633\n",
            "Epoch 30/50\n",
            "235/235 [==============================] - 166s 708ms/step - loss: 0.0637 - val_loss: 0.0633\n",
            "Epoch 31/50\n",
            "235/235 [==============================] - 167s 711ms/step - loss: 0.0636 - val_loss: 0.0632\n",
            "Epoch 32/50\n",
            "235/235 [==============================] - 167s 711ms/step - loss: 0.0635 - val_loss: 0.0631\n",
            "Epoch 33/50\n",
            "235/235 [==============================] - 167s 710ms/step - loss: 0.0634 - val_loss: 0.0630\n",
            "Epoch 34/50\n",
            "235/235 [==============================] - 164s 698ms/step - loss: 0.0634 - val_loss: 0.0630\n",
            "Epoch 35/50\n",
            "235/235 [==============================] - 168s 714ms/step - loss: 0.0633 - val_loss: 0.0629\n",
            "Epoch 36/50\n",
            "235/235 [==============================] - 166s 705ms/step - loss: 0.0633 - val_loss: 0.0629\n",
            "Epoch 37/50\n",
            "235/235 [==============================] - 165s 703ms/step - loss: 0.0632 - val_loss: 0.0628\n",
            "Epoch 38/50\n",
            "235/235 [==============================] - 165s 704ms/step - loss: 0.0632 - val_loss: 0.0629\n",
            "Epoch 39/50\n",
            "235/235 [==============================] - 162s 690ms/step - loss: 0.0631 - val_loss: 0.0628\n",
            "Epoch 40/50\n",
            "235/235 [==============================] - 166s 708ms/step - loss: 0.0631 - val_loss: 0.0628\n",
            "Epoch 41/50\n",
            "235/235 [==============================] - 165s 701ms/step - loss: 0.0630 - val_loss: 0.0626\n",
            "Epoch 42/50\n",
            "235/235 [==============================] - 162s 689ms/step - loss: 0.0630 - val_loss: 0.0626\n",
            "Epoch 43/50\n",
            "235/235 [==============================] - 167s 711ms/step - loss: 0.0630 - val_loss: 0.0626\n",
            "Epoch 44/50\n",
            "235/235 [==============================] - 165s 704ms/step - loss: 0.0629 - val_loss: 0.0626\n",
            "Epoch 45/50\n",
            "235/235 [==============================] - 167s 712ms/step - loss: 0.0629 - val_loss: 0.0627\n",
            "Epoch 46/50\n",
            "235/235 [==============================] - 166s 708ms/step - loss: 0.0628 - val_loss: 0.0627\n",
            "Epoch 47/50\n",
            " 96/235 [===========>..................] - ETA: 1:35 - loss: 0.0627"
          ]
        }
      ],
      "source": [
        "# Train the model\n",
        "history = autoencoder.fit(x_train, x_train,\n",
        "                          epochs=50,\n",
        "                          batch_size=256,\n",
        "                          shuffle=True,\n",
        "                          validation_data=(x_test, x_test))\n",
        "\n",
        "# Plot training & validation loss values\n",
        "plt.figure(figsize=(12, 4))\n",
        "plt.subplot(1, 2, 1)\n",
        "plt.plot(history.history['loss'])\n",
        "plt.plot(history.history['val_loss'])\n",
        "plt.title('Model loss')\n",
        "plt.xlabel('Epoch')\n",
        "plt.ylabel('Loss')\n",
        "plt.legend(['Train', 'Test'], loc='upper right')\n",
        "\n",
        "# Plot training & validation accuracy values\n",
        "plt.subplot(1, 2, 2)\n",
        "plt.plot(history.history['accuracy'])\n",
        "plt.plot(history.history['val_accuracy'])\n",
        "plt.title('Model accuracy')\n",
        "plt.xlabel('Epoch')\n",
        "plt.ylabel('Accuracy')\n",
        "plt.legend(['Train', 'Test'], loc='upper left')\n",
        "\n",
        "plt.show()\n"
      ]
    },
    {
      "cell_type": "code",
      "execution_count": 8,
      "metadata": {
        "id": "RmJY7Bxf5DYv",
        "colab": {
          "base_uri": "https://localhost:8080/",
          "height": 228
        },
        "outputId": "014cfc34-f0af-4715-b6fc-08c344aa5b37"
      },
      "outputs": [
        {
          "output_type": "stream",
          "name": "stdout",
          "text": [
            "313/313 [==============================] - 12s 35ms/step\n"
          ]
        },
        {
          "output_type": "error",
          "ename": "NameError",
          "evalue": "name 'mean_squared_error' is not defined",
          "traceback": [
            "\u001b[0;31m---------------------------------------------------------------------------\u001b[0m",
            "\u001b[0;31mNameError\u001b[0m                                 Traceback (most recent call last)",
            "\u001b[0;32m<ipython-input-8-152568208e94>\u001b[0m in \u001b[0;36m<cell line: 8>\u001b[0;34m()\u001b[0m\n\u001b[1;32m     10\u001b[0m     \u001b[0mreconstructed\u001b[0m \u001b[0;34m=\u001b[0m \u001b[0mdecoded_imgs\u001b[0m\u001b[0;34m[\u001b[0m\u001b[0mi\u001b[0m\u001b[0;34m]\u001b[0m\u001b[0;34m.\u001b[0m\u001b[0mreshape\u001b[0m\u001b[0;34m(\u001b[0m\u001b[0;36m28\u001b[0m\u001b[0;34m,\u001b[0m \u001b[0;36m28\u001b[0m\u001b[0;34m)\u001b[0m\u001b[0;34m\u001b[0m\u001b[0;34m\u001b[0m\u001b[0m\n\u001b[1;32m     11\u001b[0m \u001b[0;34m\u001b[0m\u001b[0m\n\u001b[0;32m---> 12\u001b[0;31m     \u001b[0mmse_value\u001b[0m \u001b[0;34m=\u001b[0m \u001b[0mmean_squared_error\u001b[0m\u001b[0;34m(\u001b[0m\u001b[0moriginal\u001b[0m\u001b[0;34m,\u001b[0m \u001b[0mreconstructed\u001b[0m\u001b[0;34m)\u001b[0m\u001b[0;34m\u001b[0m\u001b[0;34m\u001b[0m\u001b[0m\n\u001b[0m\u001b[1;32m     13\u001b[0m     \u001b[0mssim_value\u001b[0m \u001b[0;34m=\u001b[0m \u001b[0mssim\u001b[0m\u001b[0;34m(\u001b[0m\u001b[0moriginal\u001b[0m\u001b[0;34m,\u001b[0m \u001b[0mreconstructed\u001b[0m\u001b[0;34m)\u001b[0m\u001b[0;34m\u001b[0m\u001b[0;34m\u001b[0m\u001b[0m\n\u001b[1;32m     14\u001b[0m \u001b[0;34m\u001b[0m\u001b[0m\n",
            "\u001b[0;31mNameError\u001b[0m: name 'mean_squared_error' is not defined"
          ]
        }
      ],
      "source": [
        "# Predict the reconstructed images\n",
        "decoded_imgs = autoencoder.predict(x_test)\n",
        "\n",
        "# Compute additional metrics\n",
        "mse_values = []\n",
        "ssim_values = []\n",
        "\n",
        "for i in range(len(x_test)):\n",
        "    original = x_test[i].reshape(28, 28)\n",
        "    reconstructed = decoded_imgs[i].reshape(28, 28)\n",
        "\n",
        "    mse_value = mean_squared_error(original, reconstructed)\n",
        "    ssim_value = ssim(original, reconstructed)\n",
        "\n",
        "    mse_values.append(mse_value)\n",
        "    ssim_values.append(ssim_value)\n",
        "\n",
        "avg_mse = np.mean(mse_values)\n",
        "avg_ssim = np.mean(ssim_values)\n",
        "\n",
        "print(f'Average MSE: {avg_mse:.4f}')\n",
        "print(f'Average SSIM: {avg_ssim:.4f}')\n",
        "\n",
        "# Visualize the original and reconstructed images\n",
        "n = 10\n",
        "plt.figure(figsize=(20, 4))\n",
        "for i in range(n):\n",
        "    # Display original images\n",
        "    ax = plt.subplot(2, n, i + 1)\n",
        "    plt.imshow(x_test[i].reshape(28, 28), cmap='gray')\n",
        "    plt.axis('off')\n",
        "\n",
        "    # Display reconstructed images\n",
        "    ax = plt.subplot(2, n, i + 1 + n)\n",
        "    plt.imshow(decoded_imgs[i].reshape(28, 28), cmap='gray')\n",
        "    plt.axis('off')\n",
        "plt.show()\n"
      ]
    },
    {
      "cell_type": "code",
      "execution_count": null,
      "metadata": {
        "id": "NaK01rHA5F2u"
      },
      "outputs": [],
      "source": []
    }
  ],
  "metadata": {
    "colab": {
      "provenance": [],
      "authorship_tag": "ABX9TyOOL2Ebk4k9dQKGkn6iJfV3",
      "include_colab_link": true
    },
    "kernelspec": {
      "display_name": "Python 3",
      "name": "python3"
    },
    "language_info": {
      "name": "python"
    }
  },
  "nbformat": 4,
  "nbformat_minor": 0
}